{
 "cells": [
  {
   "cell_type": "markdown",
   "id": "ac390a3f",
   "metadata": {},
   "source": [
    "# Get betting data"
   ]
  },
  {
   "cell_type": "code",
   "execution_count": 19,
   "id": "e1c9ffbb",
   "metadata": {},
   "outputs": [],
   "source": [
    "import pandas as pd\n",
    "import numpy as np\n",
    "import requests\n",
    "import lxml\n",
    "import cchardet\n",
    "import random\n",
    "import time\n",
    "\n",
    "from tqdm import tqdm\n",
    "from bs4 import BeautifulSoup\n",
    "from concurrent.futures import ThreadPoolExecutor"
   ]
  },
  {
   "cell_type": "code",
   "execution_count": 2,
   "id": "3f62368f",
   "metadata": {},
   "outputs": [],
   "source": [
    "# bout_urls = pd.read_csv(\"data/bout_urls.csv\")\n",
    "# temp = bout_urls.groupby(\"event\").first().reset_index(drop=False)\n",
    "# temp = temp.sort_values(by=[\"date\", \"event\"]).reset_index(drop=True)\n",
    "# temp"
   ]
  },
  {
   "cell_type": "code",
   "execution_count": 3,
   "id": "95df8c9c",
   "metadata": {},
   "outputs": [],
   "source": [
    "# temp2 = temp[[\"event\", \"date\"]]\n",
    "# temp2.to_csv(\"data/bestfightodds_urls.csv\", index=False, header=True)"
   ]
  },
  {
   "cell_type": "markdown",
   "id": "75b62a02",
   "metadata": {},
   "source": [
    "We have to manually get all the links to the fights on bestfightodds."
   ]
  },
  {
   "cell_type": "code",
   "execution_count": 4,
   "id": "f6acdfc8",
   "metadata": {},
   "outputs": [
    {
     "data": {
      "text/html": [
       "<div>\n",
       "<style scoped>\n",
       "    .dataframe tbody tr th:only-of-type {\n",
       "        vertical-align: middle;\n",
       "    }\n",
       "\n",
       "    .dataframe tbody tr th {\n",
       "        vertical-align: top;\n",
       "    }\n",
       "\n",
       "    .dataframe thead th {\n",
       "        text-align: right;\n",
       "    }\n",
       "</style>\n",
       "<table border=\"1\" class=\"dataframe\">\n",
       "  <thead>\n",
       "    <tr style=\"text-align: right;\">\n",
       "      <th></th>\n",
       "      <th>event</th>\n",
       "      <th>date</th>\n",
       "      <th>url</th>\n",
       "    </tr>\n",
       "  </thead>\n",
       "  <tbody>\n",
       "    <tr>\n",
       "      <th>0</th>\n",
       "      <td>UFC 1: The Beginning</td>\n",
       "      <td>1993-11-12</td>\n",
       "      <td>NaN</td>\n",
       "    </tr>\n",
       "    <tr>\n",
       "      <th>1</th>\n",
       "      <td>UFC 2: No Way Out</td>\n",
       "      <td>1994-03-11</td>\n",
       "      <td>NaN</td>\n",
       "    </tr>\n",
       "    <tr>\n",
       "      <th>2</th>\n",
       "      <td>UFC 3: The American Dream</td>\n",
       "      <td>1994-09-09</td>\n",
       "      <td>NaN</td>\n",
       "    </tr>\n",
       "    <tr>\n",
       "      <th>3</th>\n",
       "      <td>UFC 4: Revenge of the Warriors</td>\n",
       "      <td>1994-12-16</td>\n",
       "      <td>NaN</td>\n",
       "    </tr>\n",
       "    <tr>\n",
       "      <th>4</th>\n",
       "      <td>UFC 5: The Return of the Beast</td>\n",
       "      <td>1995-04-07</td>\n",
       "      <td>NaN</td>\n",
       "    </tr>\n",
       "    <tr>\n",
       "      <th>...</th>\n",
       "      <td>...</td>\n",
       "      <td>...</td>\n",
       "      <td>...</td>\n",
       "    </tr>\n",
       "    <tr>\n",
       "      <th>1067</th>\n",
       "      <td>UFC 284: Makhachev vs. Volkanovski</td>\n",
       "      <td>2023-02-11</td>\n",
       "      <td>https://www.bestfightodds.com/events/ufc-284-m...</td>\n",
       "    </tr>\n",
       "    <tr>\n",
       "      <th>1068</th>\n",
       "      <td>UFC Fight Night: Andrade vs. Blanchfield</td>\n",
       "      <td>2023-02-18</td>\n",
       "      <td>https://www.bestfightodds.com/events/ufc-fight...</td>\n",
       "    </tr>\n",
       "    <tr>\n",
       "      <th>1069</th>\n",
       "      <td>UFC Fight Night: Muniz vs. Allen</td>\n",
       "      <td>2023-02-25</td>\n",
       "      <td>https://www.bestfightodds.com/events/ufc-fight...</td>\n",
       "    </tr>\n",
       "    <tr>\n",
       "      <th>1070</th>\n",
       "      <td>UFC 285: Jones vs. Gane</td>\n",
       "      <td>2023-03-04</td>\n",
       "      <td>https://www.bestfightodds.com/events/ufc-285-2738</td>\n",
       "    </tr>\n",
       "    <tr>\n",
       "      <th>1071</th>\n",
       "      <td>UFC Fight Night: Yan vs. Dvalishvili</td>\n",
       "      <td>2023-03-11</td>\n",
       "      <td>https://www.bestfightodds.com/events/ufc-fight...</td>\n",
       "    </tr>\n",
       "  </tbody>\n",
       "</table>\n",
       "<p>1072 rows × 3 columns</p>\n",
       "</div>"
      ],
      "text/plain": [
       "                                         event        date  \\\n",
       "0                         UFC 1: The Beginning  1993-11-12   \n",
       "1                            UFC 2: No Way Out  1994-03-11   \n",
       "2                    UFC 3: The American Dream  1994-09-09   \n",
       "3               UFC 4: Revenge of the Warriors  1994-12-16   \n",
       "4               UFC 5: The Return of the Beast  1995-04-07   \n",
       "...                                        ...         ...   \n",
       "1067        UFC 284: Makhachev vs. Volkanovski  2023-02-11   \n",
       "1068  UFC Fight Night: Andrade vs. Blanchfield  2023-02-18   \n",
       "1069          UFC Fight Night: Muniz vs. Allen  2023-02-25   \n",
       "1070                   UFC 285: Jones vs. Gane  2023-03-04   \n",
       "1071      UFC Fight Night: Yan vs. Dvalishvili  2023-03-11   \n",
       "\n",
       "                                                    url  \n",
       "0                                                   NaN  \n",
       "1                                                   NaN  \n",
       "2                                                   NaN  \n",
       "3                                                   NaN  \n",
       "4                                                   NaN  \n",
       "...                                                 ...  \n",
       "1067  https://www.bestfightodds.com/events/ufc-284-m...  \n",
       "1068  https://www.bestfightodds.com/events/ufc-fight...  \n",
       "1069  https://www.bestfightodds.com/events/ufc-fight...  \n",
       "1070  https://www.bestfightodds.com/events/ufc-285-2738  \n",
       "1071  https://www.bestfightodds.com/events/ufc-fight...  \n",
       "\n",
       "[1072 rows x 3 columns]"
      ]
     },
     "execution_count": 4,
     "metadata": {},
     "output_type": "execute_result"
    }
   ],
   "source": [
    "odds_links = pd.read_csv(\"data/bestfightodds_urls.csv\")\n",
    "odds_links"
   ]
  },
  {
   "cell_type": "markdown",
   "id": "8053786a",
   "metadata": {},
   "source": [
    "### Scrape money line odds from links\n",
    "\n",
    "Note: Very important, try not to run the following cells it's not worth it"
   ]
  },
  {
   "cell_type": "code",
   "execution_count": 5,
   "id": "5345a437",
   "metadata": {},
   "outputs": [
    {
     "data": {
      "text/html": [
       "<div>\n",
       "<style scoped>\n",
       "    .dataframe tbody tr th:only-of-type {\n",
       "        vertical-align: middle;\n",
       "    }\n",
       "\n",
       "    .dataframe tbody tr th {\n",
       "        vertical-align: top;\n",
       "    }\n",
       "\n",
       "    .dataframe thead th {\n",
       "        text-align: right;\n",
       "    }\n",
       "</style>\n",
       "<table border=\"1\" class=\"dataframe\">\n",
       "  <thead>\n",
       "    <tr style=\"text-align: right;\">\n",
       "      <th></th>\n",
       "      <th>event</th>\n",
       "      <th>date</th>\n",
       "      <th>url</th>\n",
       "    </tr>\n",
       "  </thead>\n",
       "  <tbody>\n",
       "    <tr>\n",
       "      <th>304</th>\n",
       "      <td>UFC 73: Stacked</td>\n",
       "      <td>2007-07-07</td>\n",
       "      <td>https://www.bestfightodds.com/events/ufc-73-st...</td>\n",
       "    </tr>\n",
       "    <tr>\n",
       "      <th>309</th>\n",
       "      <td>UFC 74: Respect</td>\n",
       "      <td>2007-08-25</td>\n",
       "      <td>https://www.bestfightodds.com/events/ufc-74-re...</td>\n",
       "    </tr>\n",
       "    <tr>\n",
       "      <th>311</th>\n",
       "      <td>UFC 75: Champion vs Champion</td>\n",
       "      <td>2007-09-08</td>\n",
       "      <td>https://www.bestfightodds.com/events/ufc-75-ch...</td>\n",
       "    </tr>\n",
       "    <tr>\n",
       "      <th>312</th>\n",
       "      <td>EliteXC - Uprising</td>\n",
       "      <td>2007-09-15</td>\n",
       "      <td>https://www.bestfightodds.com/events/elitexc-u...</td>\n",
       "    </tr>\n",
       "    <tr>\n",
       "      <th>314</th>\n",
       "      <td>UFC Fight Night: Thomas vs Florian</td>\n",
       "      <td>2007-09-19</td>\n",
       "      <td>https://www.bestfightodds.com/events/ufc-fight...</td>\n",
       "    </tr>\n",
       "    <tr>\n",
       "      <th>...</th>\n",
       "      <td>...</td>\n",
       "      <td>...</td>\n",
       "      <td>...</td>\n",
       "    </tr>\n",
       "    <tr>\n",
       "      <th>1067</th>\n",
       "      <td>UFC 284: Makhachev vs. Volkanovski</td>\n",
       "      <td>2023-02-11</td>\n",
       "      <td>https://www.bestfightodds.com/events/ufc-284-m...</td>\n",
       "    </tr>\n",
       "    <tr>\n",
       "      <th>1068</th>\n",
       "      <td>UFC Fight Night: Andrade vs. Blanchfield</td>\n",
       "      <td>2023-02-18</td>\n",
       "      <td>https://www.bestfightodds.com/events/ufc-fight...</td>\n",
       "    </tr>\n",
       "    <tr>\n",
       "      <th>1069</th>\n",
       "      <td>UFC Fight Night: Muniz vs. Allen</td>\n",
       "      <td>2023-02-25</td>\n",
       "      <td>https://www.bestfightodds.com/events/ufc-fight...</td>\n",
       "    </tr>\n",
       "    <tr>\n",
       "      <th>1070</th>\n",
       "      <td>UFC 285: Jones vs. Gane</td>\n",
       "      <td>2023-03-04</td>\n",
       "      <td>https://www.bestfightodds.com/events/ufc-285-2738</td>\n",
       "    </tr>\n",
       "    <tr>\n",
       "      <th>1071</th>\n",
       "      <td>UFC Fight Night: Yan vs. Dvalishvili</td>\n",
       "      <td>2023-03-11</td>\n",
       "      <td>https://www.bestfightodds.com/events/ufc-fight...</td>\n",
       "    </tr>\n",
       "  </tbody>\n",
       "</table>\n",
       "<p>731 rows × 3 columns</p>\n",
       "</div>"
      ],
      "text/plain": [
       "                                         event        date  \\\n",
       "304                            UFC 73: Stacked  2007-07-07   \n",
       "309                            UFC 74: Respect  2007-08-25   \n",
       "311               UFC 75: Champion vs Champion  2007-09-08   \n",
       "312                         EliteXC - Uprising  2007-09-15   \n",
       "314         UFC Fight Night: Thomas vs Florian  2007-09-19   \n",
       "...                                        ...         ...   \n",
       "1067        UFC 284: Makhachev vs. Volkanovski  2023-02-11   \n",
       "1068  UFC Fight Night: Andrade vs. Blanchfield  2023-02-18   \n",
       "1069          UFC Fight Night: Muniz vs. Allen  2023-02-25   \n",
       "1070                   UFC 285: Jones vs. Gane  2023-03-04   \n",
       "1071      UFC Fight Night: Yan vs. Dvalishvili  2023-03-11   \n",
       "\n",
       "                                                    url  \n",
       "304   https://www.bestfightodds.com/events/ufc-73-st...  \n",
       "309   https://www.bestfightodds.com/events/ufc-74-re...  \n",
       "311   https://www.bestfightodds.com/events/ufc-75-ch...  \n",
       "312   https://www.bestfightodds.com/events/elitexc-u...  \n",
       "314   https://www.bestfightodds.com/events/ufc-fight...  \n",
       "...                                                 ...  \n",
       "1067  https://www.bestfightodds.com/events/ufc-284-m...  \n",
       "1068  https://www.bestfightodds.com/events/ufc-fight...  \n",
       "1069  https://www.bestfightodds.com/events/ufc-fight...  \n",
       "1070  https://www.bestfightodds.com/events/ufc-285-2738  \n",
       "1071  https://www.bestfightodds.com/events/ufc-fight...  \n",
       "\n",
       "[731 rows x 3 columns]"
      ]
     },
     "execution_count": 5,
     "metadata": {},
     "output_type": "execute_result"
    }
   ],
   "source": [
    "# Select events that actually have links on bestfightodds\n",
    "odds_links2 = odds_links[~odds_links[\"url\"].isna()]\n",
    "odds_links2"
   ]
  },
  {
   "cell_type": "code",
   "execution_count": 20,
   "id": "1bc37fee",
   "metadata": {},
   "outputs": [],
   "source": [
    "def scrape_odds(event, date, url):\n",
    "    source_code = requests.get(url, allow_redirects=False)\n",
    "    plain_text = source_code.text.encode(\"ascii\", \"replace\")\n",
    "    soup = BeautifulSoup(plain_text, \"lxml\")\n",
    "    tables = soup.findAll(\"table\", {\"class\": \"odds-table\"})\n",
    "    \n",
    "    if not tables:\n",
    "        print(url)\n",
    "    \n",
    "    table = tables[1].find(\"tbody\")\n",
    "    rows = table.findAll(\"tr\", {\"class\": \"\"})\n",
    "    \n",
    "    result = []\n",
    "    for row in rows:\n",
    "        name = row.find(\"span\", {\"class\": \"t-b-fcc\"})\n",
    "        if not name:\n",
    "            break\n",
    "        res = [event, date, name.text.strip()]\n",
    "        cells = row.findAll(\"td\")\n",
    "        for cell in cells:\n",
    "            odds = cell.find(\"span\")\n",
    "            if odds:\n",
    "                res.append(odds.text.strip())\n",
    "            else:\n",
    "                res.append(np.nan)\n",
    "        result.append(res[:-2])\n",
    "    \n",
    "    return result"
   ]
  },
  {
   "cell_type": "code",
   "execution_count": 21,
   "id": "8005310f",
   "metadata": {
    "scrolled": true
   },
   "outputs": [],
   "source": [
    "batch1 = odds_links2.iloc[:100]\n",
    "batch2 = odds_links2.iloc[100:200]\n",
    "batch3 = odds_links2.iloc[200:300]\n",
    "batch4 = odds_links2.iloc[300:400]\n",
    "batch5 = odds_links2.iloc[400:500]\n",
    "batch6 = odds_links2.iloc[500:600]\n",
    "batch7 = odds_links2.iloc[600:700]\n",
    "batch8 = odds_links2.iloc[700:]"
   ]
  },
  {
   "cell_type": "code",
   "execution_count": 22,
   "id": "fc6c9f4b",
   "metadata": {},
   "outputs": [
    {
     "name": "stderr",
     "output_type": "stream",
     "text": [
      "Scraping odds (Batch #1): 100%|██████████████████████████████████████████████████████| 100/100 [00:27<00:00,  3.68it/s]\n"
     ]
    }
   ],
   "source": [
    "# Batch 1\n",
    "moneyline1 = []\n",
    "for index, row in tqdm(batch1.iterrows(), total=batch1.shape[0], desc=\"Scraping odds (Batch #1)\"):\n",
    "    moneyline1 += scrape_odds(row[\"event\"], row[\"date\"], row[\"url\"])"
   ]
  },
  {
   "cell_type": "code",
   "execution_count": 23,
   "id": "fcdb2256",
   "metadata": {},
   "outputs": [
    {
     "name": "stderr",
     "output_type": "stream",
     "text": [
      "Scraping odds (Batch #2): 100%|██████████████████████████████████████████████████████| 100/100 [00:23<00:00,  4.30it/s]\n"
     ]
    }
   ],
   "source": [
    "# Batch 2\n",
    "moneyline2 = []\n",
    "for index, row in tqdm(batch2.iterrows(), total=batch2.shape[0], desc=\"Scraping odds (Batch #2)\"):\n",
    "    moneyline2 += scrape_odds(row[\"event\"], row[\"date\"], row[\"url\"])"
   ]
  },
  {
   "cell_type": "code",
   "execution_count": 25,
   "id": "6f0d2a15",
   "metadata": {},
   "outputs": [
    {
     "name": "stderr",
     "output_type": "stream",
     "text": [
      "Scraping odds (Batch #3): 100%|██████████████████████████████████████████████████████| 100/100 [00:42<00:00,  2.35it/s]\n"
     ]
    }
   ],
   "source": [
    "# Batch 3\n",
    "moneyline3 = []\n",
    "for index, row in tqdm(batch3.iterrows(), total=batch3.shape[0], desc=\"Scraping odds (Batch #3)\"):\n",
    "    moneyline3 += scrape_odds(row[\"event\"], row[\"date\"], row[\"url\"])"
   ]
  },
  {
   "cell_type": "code",
   "execution_count": 26,
   "id": "8d5e6f86",
   "metadata": {},
   "outputs": [
    {
     "name": "stderr",
     "output_type": "stream",
     "text": [
      "Scraping odds (Batch #4): 100%|██████████████████████████████████████████████████████| 100/100 [01:38<00:00,  1.01it/s]\n"
     ]
    }
   ],
   "source": [
    "# Batch 4\n",
    "moneyline4 = []\n",
    "for index, row in tqdm(batch4.iterrows(), total=batch4.shape[0], desc=\"Scraping odds (Batch #4)\"):\n",
    "    moneyline4 += scrape_odds(row[\"event\"], row[\"date\"], row[\"url\"])"
   ]
  },
  {
   "cell_type": "code",
   "execution_count": 27,
   "id": "b4f73ca5",
   "metadata": {},
   "outputs": [
    {
     "name": "stderr",
     "output_type": "stream",
     "text": [
      "Scraping odds (Batch #5): 100%|██████████████████████████████████████████████████████| 100/100 [01:26<00:00,  1.15it/s]\n"
     ]
    }
   ],
   "source": [
    "# Batch 5\n",
    "moneyline5 = []\n",
    "for index, row in tqdm(batch5.iterrows(), total=batch5.shape[0], desc=\"Scraping odds (Batch #5)\"):\n",
    "    moneyline5 += scrape_odds(row[\"event\"], row[\"date\"], row[\"url\"])"
   ]
  },
  {
   "cell_type": "code",
   "execution_count": 28,
   "id": "34642be3",
   "metadata": {},
   "outputs": [
    {
     "name": "stderr",
     "output_type": "stream",
     "text": [
      "Scraping odds (Batch #6): 100%|██████████████████████████████████████████████████████| 100/100 [01:36<00:00,  1.04it/s]\n"
     ]
    }
   ],
   "source": [
    "# Batch 6\n",
    "moneyline6 = []\n",
    "for index, row in tqdm(batch6.iterrows(), total=batch6.shape[0], desc=\"Scraping odds (Batch #6)\"):\n",
    "    moneyline6 += scrape_odds(row[\"event\"], row[\"date\"], row[\"url\"])"
   ]
  },
  {
   "cell_type": "code",
   "execution_count": 36,
   "id": "d4cbefd9",
   "metadata": {},
   "outputs": [
    {
     "name": "stderr",
     "output_type": "stream",
     "text": [
      "Scraping odds (Batch #7_1): 100%|██████████████████████████████████████████████████████| 25/25 [00:54<00:00,  2.17s/it]\n"
     ]
    }
   ],
   "source": [
    "# Batch 7\n",
    "moneyline7_1 = []\n",
    "batch7_1 = batch7.iloc[:25]\n",
    "for index, row in tqdm(batch7_1.iterrows(), total=batch7_1.shape[0], desc=\"Scraping odds (Batch #7_1)\"):\n",
    "    moneyline7_1 += scrape_odds(row[\"event\"], row[\"date\"], row[\"url\"])"
   ]
  },
  {
   "cell_type": "code",
   "execution_count": 37,
   "id": "5553c90d",
   "metadata": {},
   "outputs": [
    {
     "name": "stderr",
     "output_type": "stream",
     "text": [
      "Scraping odds (Batch #7_2): 100%|██████████████████████████████████████████████████████| 25/25 [01:25<00:00,  3.41s/it]\n"
     ]
    }
   ],
   "source": [
    "moneyline7_2 = []\n",
    "batch7_2 = batch7.iloc[25:50]\n",
    "for index, row in tqdm(batch7_2.iterrows(), total=batch7_2.shape[0], desc=\"Scraping odds (Batch #7_2)\"):\n",
    "    moneyline7_2 += scrape_odds(row[\"event\"], row[\"date\"], row[\"url\"])"
   ]
  },
  {
   "cell_type": "code",
   "execution_count": 38,
   "id": "009ce48a",
   "metadata": {},
   "outputs": [
    {
     "name": "stderr",
     "output_type": "stream",
     "text": [
      "Scraping odds (Batch #7_3): 100%|██████████████████████████████████████████████████████| 25/25 [02:13<00:00,  5.34s/it]\n"
     ]
    }
   ],
   "source": [
    "moneyline7_3 = []\n",
    "batch7_3 = batch7.iloc[50:75]\n",
    "for index, row in tqdm(batch7_3.iterrows(), total=batch7_3.shape[0], desc=\"Scraping odds (Batch #7_3)\"):\n",
    "    moneyline7_3 += scrape_odds(row[\"event\"], row[\"date\"], row[\"url\"])"
   ]
  },
  {
   "cell_type": "code",
   "execution_count": 40,
   "id": "cf2c01c2",
   "metadata": {},
   "outputs": [
    {
     "name": "stderr",
     "output_type": "stream",
     "text": [
      "Scraping odds (Batch #7_4): 100%|██████████████████████████████████████████████████████| 25/25 [02:29<00:00,  5.97s/it]\n"
     ]
    }
   ],
   "source": [
    "moneyline7_4 = []\n",
    "batch7_4 = batch7.iloc[75:]\n",
    "for index, row in tqdm(batch7_4.iterrows(), total=batch7_4.shape[0], desc=\"Scraping odds (Batch #7_4)\"):\n",
    "    time.sleep(3)\n",
    "    moneyline7_4 += scrape_odds(row[\"event\"], row[\"date\"], row[\"url\"])"
   ]
  },
  {
   "cell_type": "code",
   "execution_count": 41,
   "id": "e305ee2f",
   "metadata": {},
   "outputs": [
    {
     "data": {
      "text/plain": [
       "2294"
      ]
     },
     "execution_count": 41,
     "metadata": {},
     "output_type": "execute_result"
    }
   ],
   "source": [
    "moneyline7 = moneyline7_1 + moneyline7_2 + moneyline7_3 + moneyline7_4\n",
    "moneyline7\n",
    "len(moneyline7)"
   ]
  },
  {
   "cell_type": "code",
   "execution_count": 42,
   "id": "2b983cfd",
   "metadata": {},
   "outputs": [
    {
     "name": "stderr",
     "output_type": "stream",
     "text": [
      "Scraping odds (Batch #8): 100%|████████████████████████████████████████████████████████| 31/31 [03:51<00:00,  7.45s/it]\n"
     ]
    }
   ],
   "source": [
    "# Batch 8\n",
    "moneyline8 = []\n",
    "for index, row in tqdm(batch8.iterrows(), total=batch8.shape[0], desc=\"Scraping odds (Batch #8)\"):\n",
    "    time.sleep(3)\n",
    "    moneyline8 += scrape_odds(row[\"event\"], row[\"date\"], row[\"url\"])"
   ]
  },
  {
   "cell_type": "code",
   "execution_count": 43,
   "id": "60d4a0cd",
   "metadata": {},
   "outputs": [
    {
     "data": {
      "text/html": [
       "<div>\n",
       "<style scoped>\n",
       "    .dataframe tbody tr th:only-of-type {\n",
       "        vertical-align: middle;\n",
       "    }\n",
       "\n",
       "    .dataframe tbody tr th {\n",
       "        vertical-align: top;\n",
       "    }\n",
       "\n",
       "    .dataframe thead th {\n",
       "        text-align: right;\n",
       "    }\n",
       "</style>\n",
       "<table border=\"1\" class=\"dataframe\">\n",
       "  <thead>\n",
       "    <tr style=\"text-align: right;\">\n",
       "      <th></th>\n",
       "      <th>event</th>\n",
       "      <th>date</th>\n",
       "      <th>name</th>\n",
       "      <th>DraftKings</th>\n",
       "      <th>BetMGM</th>\n",
       "      <th>Caesars</th>\n",
       "      <th>BetRivers</th>\n",
       "      <th>FanDuel</th>\n",
       "      <th>PointsBet</th>\n",
       "      <th>Unibet</th>\n",
       "      <th>Bet365</th>\n",
       "      <th>BetWay</th>\n",
       "      <th>5D</th>\n",
       "      <th>Ref</th>\n",
       "    </tr>\n",
       "  </thead>\n",
       "  <tbody>\n",
       "    <tr>\n",
       "      <th>0</th>\n",
       "      <td>UFC 73: Stacked</td>\n",
       "      <td>2007-07-07</td>\n",
       "      <td>Anderson Silva</td>\n",
       "      <td>NaN</td>\n",
       "      <td>NaN</td>\n",
       "      <td>NaN</td>\n",
       "      <td>NaN</td>\n",
       "      <td>NaN</td>\n",
       "      <td>NaN</td>\n",
       "      <td>NaN</td>\n",
       "      <td>NaN</td>\n",
       "      <td>-145</td>\n",
       "      <td>NaN</td>\n",
       "      <td>None</td>\n",
       "    </tr>\n",
       "    <tr>\n",
       "      <th>1</th>\n",
       "      <td>UFC 73: Stacked</td>\n",
       "      <td>2007-07-07</td>\n",
       "      <td>Nate Marquardt</td>\n",
       "      <td>NaN</td>\n",
       "      <td>NaN</td>\n",
       "      <td>NaN</td>\n",
       "      <td>NaN</td>\n",
       "      <td>NaN</td>\n",
       "      <td>NaN</td>\n",
       "      <td>NaN</td>\n",
       "      <td>NaN</td>\n",
       "      <td>+125</td>\n",
       "      <td>NaN</td>\n",
       "      <td>None</td>\n",
       "    </tr>\n",
       "    <tr>\n",
       "      <th>2</th>\n",
       "      <td>UFC 73: Stacked</td>\n",
       "      <td>2007-07-07</td>\n",
       "      <td>Rashad Evans</td>\n",
       "      <td>NaN</td>\n",
       "      <td>NaN</td>\n",
       "      <td>NaN</td>\n",
       "      <td>NaN</td>\n",
       "      <td>NaN</td>\n",
       "      <td>NaN</td>\n",
       "      <td>NaN</td>\n",
       "      <td>NaN</td>\n",
       "      <td>-110</td>\n",
       "      <td>NaN</td>\n",
       "      <td>None</td>\n",
       "    </tr>\n",
       "    <tr>\n",
       "      <th>3</th>\n",
       "      <td>UFC 73: Stacked</td>\n",
       "      <td>2007-07-07</td>\n",
       "      <td>Tito Ortiz</td>\n",
       "      <td>NaN</td>\n",
       "      <td>NaN</td>\n",
       "      <td>NaN</td>\n",
       "      <td>NaN</td>\n",
       "      <td>NaN</td>\n",
       "      <td>NaN</td>\n",
       "      <td>NaN</td>\n",
       "      <td>NaN</td>\n",
       "      <td>-110</td>\n",
       "      <td>NaN</td>\n",
       "      <td>None</td>\n",
       "    </tr>\n",
       "    <tr>\n",
       "      <th>4</th>\n",
       "      <td>UFC 73: Stacked</td>\n",
       "      <td>2007-07-07</td>\n",
       "      <td>Hermes Franca</td>\n",
       "      <td>NaN</td>\n",
       "      <td>NaN</td>\n",
       "      <td>NaN</td>\n",
       "      <td>NaN</td>\n",
       "      <td>NaN</td>\n",
       "      <td>NaN</td>\n",
       "      <td>NaN</td>\n",
       "      <td>NaN</td>\n",
       "      <td>+225</td>\n",
       "      <td>NaN</td>\n",
       "      <td>None</td>\n",
       "    </tr>\n",
       "    <tr>\n",
       "      <th>...</th>\n",
       "      <td>...</td>\n",
       "      <td>...</td>\n",
       "      <td>...</td>\n",
       "      <td>...</td>\n",
       "      <td>...</td>\n",
       "      <td>...</td>\n",
       "      <td>...</td>\n",
       "      <td>...</td>\n",
       "      <td>...</td>\n",
       "      <td>...</td>\n",
       "      <td>...</td>\n",
       "      <td>...</td>\n",
       "      <td>...</td>\n",
       "      <td>...</td>\n",
       "    </tr>\n",
       "    <tr>\n",
       "      <th>15245</th>\n",
       "      <td>UFC Fight Night: Yan vs. Dvalishvili</td>\n",
       "      <td>2023-03-11</td>\n",
       "      <td>Jj Aldrich</td>\n",
       "      <td>NaN</td>\n",
       "      <td>-350</td>\n",
       "      <td>-440</td>\n",
       "      <td>-400</td>\n",
       "      <td>-375</td>\n",
       "      <td>NaN</td>\n",
       "      <td>-400</td>\n",
       "      <td>-400</td>\n",
       "      <td>-400</td>\n",
       "      <td>-380</td>\n",
       "      <td>-440</td>\n",
       "    </tr>\n",
       "    <tr>\n",
       "      <th>15246</th>\n",
       "      <td>UFC Fight Night: Yan vs. Dvalishvili</td>\n",
       "      <td>2023-03-11</td>\n",
       "      <td>Bruno Gustavo da Silva</td>\n",
       "      <td>NaN</td>\n",
       "      <td>-190</td>\n",
       "      <td>-175</td>\n",
       "      <td>-195</td>\n",
       "      <td>-180</td>\n",
       "      <td>NaN</td>\n",
       "      <td>-195</td>\n",
       "      <td>-188</td>\n",
       "      <td>-188</td>\n",
       "      <td>-190</td>\n",
       "      <td>-170</td>\n",
       "    </tr>\n",
       "    <tr>\n",
       "      <th>15247</th>\n",
       "      <td>UFC Fight Night: Yan vs. Dvalishvili</td>\n",
       "      <td>2023-03-11</td>\n",
       "      <td>Tyson Nam</td>\n",
       "      <td>NaN</td>\n",
       "      <td>+155</td>\n",
       "      <td>+150</td>\n",
       "      <td>+155</td>\n",
       "      <td>+152</td>\n",
       "      <td>NaN</td>\n",
       "      <td>+155</td>\n",
       "      <td>+163</td>\n",
       "      <td>+150</td>\n",
       "      <td>+165</td>\n",
       "      <td>+145</td>\n",
       "    </tr>\n",
       "    <tr>\n",
       "      <th>15248</th>\n",
       "      <td>UFC Fight Night: Yan vs. Dvalishvili</td>\n",
       "      <td>2023-03-11</td>\n",
       "      <td>Carlston Harris</td>\n",
       "      <td>NaN</td>\n",
       "      <td>-300</td>\n",
       "      <td>-310</td>\n",
       "      <td>-315</td>\n",
       "      <td>-300</td>\n",
       "      <td>NaN</td>\n",
       "      <td>-315</td>\n",
       "      <td>-400</td>\n",
       "      <td>-350</td>\n",
       "      <td>NaN</td>\n",
       "      <td>-300</td>\n",
       "    </tr>\n",
       "    <tr>\n",
       "      <th>15249</th>\n",
       "      <td>UFC Fight Night: Yan vs. Dvalishvili</td>\n",
       "      <td>2023-03-11</td>\n",
       "      <td>Jared Gooden</td>\n",
       "      <td>NaN</td>\n",
       "      <td>+240</td>\n",
       "      <td>+250</td>\n",
       "      <td>+240</td>\n",
       "      <td>+245</td>\n",
       "      <td>NaN</td>\n",
       "      <td>+240</td>\n",
       "      <td>+300</td>\n",
       "      <td>+260</td>\n",
       "      <td>NaN</td>\n",
       "      <td>+250</td>\n",
       "    </tr>\n",
       "  </tbody>\n",
       "</table>\n",
       "<p>15250 rows × 14 columns</p>\n",
       "</div>"
      ],
      "text/plain": [
       "                                      event        date  \\\n",
       "0                           UFC 73: Stacked  2007-07-07   \n",
       "1                           UFC 73: Stacked  2007-07-07   \n",
       "2                           UFC 73: Stacked  2007-07-07   \n",
       "3                           UFC 73: Stacked  2007-07-07   \n",
       "4                           UFC 73: Stacked  2007-07-07   \n",
       "...                                     ...         ...   \n",
       "15245  UFC Fight Night: Yan vs. Dvalishvili  2023-03-11   \n",
       "15246  UFC Fight Night: Yan vs. Dvalishvili  2023-03-11   \n",
       "15247  UFC Fight Night: Yan vs. Dvalishvili  2023-03-11   \n",
       "15248  UFC Fight Night: Yan vs. Dvalishvili  2023-03-11   \n",
       "15249  UFC Fight Night: Yan vs. Dvalishvili  2023-03-11   \n",
       "\n",
       "                         name DraftKings BetMGM Caesars BetRivers FanDuel  \\\n",
       "0              Anderson Silva        NaN    NaN     NaN       NaN     NaN   \n",
       "1              Nate Marquardt        NaN    NaN     NaN       NaN     NaN   \n",
       "2                Rashad Evans        NaN    NaN     NaN       NaN     NaN   \n",
       "3                  Tito Ortiz        NaN    NaN     NaN       NaN     NaN   \n",
       "4               Hermes Franca        NaN    NaN     NaN       NaN     NaN   \n",
       "...                       ...        ...    ...     ...       ...     ...   \n",
       "15245              Jj Aldrich        NaN   -350    -440      -400    -375   \n",
       "15246  Bruno Gustavo da Silva        NaN   -190    -175      -195    -180   \n",
       "15247               Tyson Nam        NaN   +155    +150      +155    +152   \n",
       "15248         Carlston Harris        NaN   -300    -310      -315    -300   \n",
       "15249            Jared Gooden        NaN   +240    +250      +240    +245   \n",
       "\n",
       "      PointsBet Unibet Bet365 BetWay    5D   Ref  \n",
       "0           NaN    NaN    NaN   -145   NaN  None  \n",
       "1           NaN    NaN    NaN   +125   NaN  None  \n",
       "2           NaN    NaN    NaN   -110   NaN  None  \n",
       "3           NaN    NaN    NaN   -110   NaN  None  \n",
       "4           NaN    NaN    NaN   +225   NaN  None  \n",
       "...         ...    ...    ...    ...   ...   ...  \n",
       "15245       NaN   -400   -400   -400  -380  -440  \n",
       "15246       NaN   -195   -188   -188  -190  -170  \n",
       "15247       NaN   +155   +163   +150  +165  +145  \n",
       "15248       NaN   -315   -400   -350   NaN  -300  \n",
       "15249       NaN   +240   +300   +260   NaN  +250  \n",
       "\n",
       "[15250 rows x 14 columns]"
      ]
     },
     "execution_count": 43,
     "metadata": {},
     "output_type": "execute_result"
    }
   ],
   "source": [
    "moneyline = moneyline1 + moneyline2 + moneyline3 + moneyline4 + moneyline5 + moneyline6 + moneyline7 + moneyline8\n",
    "cols = [\"event\", \"date\", \"name\", \"DraftKings\", \"BetMGM\", \"Caesars\", \"BetRivers\", \"FanDuel\", \"PointsBet\", \"Unibet\", \"Bet365\", \n",
    "        \"BetWay\", \"5D\", \"Ref\"]\n",
    "df = pd.DataFrame(moneyline, columns=cols)\n",
    "df"
   ]
  },
  {
   "cell_type": "code",
   "execution_count": 45,
   "id": "89ab5e6c",
   "metadata": {},
   "outputs": [],
   "source": [
    "df.to_csv(\"data/bestfightodds_raw.csv\", index=False, header=True)"
   ]
  },
  {
   "cell_type": "code",
   "execution_count": null,
   "id": "d218c254",
   "metadata": {},
   "outputs": [],
   "source": []
  }
 ],
 "metadata": {
  "kernelspec": {
   "display_name": "Python [conda env:ufc]",
   "language": "python",
   "name": "conda-env-ufc-py"
  },
  "language_info": {
   "codemirror_mode": {
    "name": "ipython",
    "version": 3
   },
   "file_extension": ".py",
   "mimetype": "text/x-python",
   "name": "python",
   "nbconvert_exporter": "python",
   "pygments_lexer": "ipython3",
   "version": "3.9.16"
  }
 },
 "nbformat": 4,
 "nbformat_minor": 5
}
