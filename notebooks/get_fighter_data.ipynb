{
 "cells": [
  {
   "cell_type": "markdown",
   "id": "9564dd83",
   "metadata": {},
   "source": [
    "# Get fighter data\n",
    "\n",
    "This is a one-time notebook to gather all data on the profile pages of each fighter. Data on the fights themselves are scraped in get_bouts_data.ipynb. Please excuse the spaghetti code as this is not supposed to be frequently run."
   ]
  },
  {
   "cell_type": "code",
   "execution_count": 1,
   "id": "8dc429ff",
   "metadata": {},
   "outputs": [],
   "source": [
    "import pandas as pd\n",
    "import numpy as np\n",
    "import requests\n",
    "\n",
    "from string import ascii_lowercase\n",
    "from tqdm import tqdm\n",
    "from bs4 import BeautifulSoup"
   ]
  },
  {
   "cell_type": "code",
   "execution_count": null,
   "id": "9113d3b3",
   "metadata": {},
   "outputs": [],
   "source": [
    "# Scrape fighter names and corresponding URLs to profile pages\n",
    "\n",
    "# fighter_url_dict = {}\n",
    "# fighter_name = \"\"\n",
    "# fighter_name_group_urls = [f\"http://ufcstats.com/statistics/fighters?char={c}&page=all\" for c in ascii_lowercase]\n",
    "\n",
    "# for url in fighter_name_group_urls:\n",
    "#     source_code = requests.get(url, allow_redirects=False)\n",
    "#     plain_text = source_code.text.encode(\"ascii\", \"replace\")\n",
    "#     soup = BeautifulSoup(plain_text, \"html.parser\")\n",
    "#     table = soup.find(\"tbody\")\n",
    "#     names = table.findAll(\"a\", {\"class\": \"b-link b-link_style_black\"}, href=True)\n",
    "    \n",
    "#     for i, name in enumerate(names):\n",
    "#         if (i + 1) % 3 != 0:\n",
    "#             if fighter_name == \"\":\n",
    "#                 fighter_name = name.text\n",
    "#             else:\n",
    "#                 fighter_name = fighter_name + \" \" + name.text\n",
    "#         else:\n",
    "#             fighter_url_dict[fighter_name] = name[\"href\"]\n",
    "#             fighter_name = \"\""
   ]
  },
  {
   "cell_type": "code",
   "execution_count": null,
   "id": "1dd4ac1e",
   "metadata": {},
   "outputs": [],
   "source": [
    "# Save everything so I don't need to scrape again in the future\n",
    "\n",
    "# df = pd.DataFrame(fighter_url_dict.items(), columns=[\"name\", \"url\"])\n",
    "# df.to_csv(\"../data/fighter_urls.csv\")"
   ]
  },
  {
   "cell_type": "code",
   "execution_count": 2,
   "id": "9dbd4676",
   "metadata": {},
   "outputs": [
    {
     "data": {
      "text/html": [
       "<div>\n",
       "<style scoped>\n",
       "    .dataframe tbody tr th:only-of-type {\n",
       "        vertical-align: middle;\n",
       "    }\n",
       "\n",
       "    .dataframe tbody tr th {\n",
       "        vertical-align: top;\n",
       "    }\n",
       "\n",
       "    .dataframe thead th {\n",
       "        text-align: right;\n",
       "    }\n",
       "</style>\n",
       "<table border=\"1\" class=\"dataframe\">\n",
       "  <thead>\n",
       "    <tr style=\"text-align: right;\">\n",
       "      <th></th>\n",
       "      <th>name</th>\n",
       "      <th>url</th>\n",
       "    </tr>\n",
       "  </thead>\n",
       "  <tbody>\n",
       "    <tr>\n",
       "      <th>0</th>\n",
       "      <td>Tom Aaron</td>\n",
       "      <td>http://ufcstats.com/fighter-details/93fe7332d1...</td>\n",
       "    </tr>\n",
       "    <tr>\n",
       "      <th>1</th>\n",
       "      <td>Danny Abbadi</td>\n",
       "      <td>http://ufcstats.com/fighter-details/15df64c02b...</td>\n",
       "    </tr>\n",
       "    <tr>\n",
       "      <th>2</th>\n",
       "      <td>Nariman Abbasov</td>\n",
       "      <td>http://ufcstats.com/fighter-details/59a9d6dac6...</td>\n",
       "    </tr>\n",
       "    <tr>\n",
       "      <th>3</th>\n",
       "      <td>David Abbott</td>\n",
       "      <td>http://ufcstats.com/fighter-details/b361180739...</td>\n",
       "    </tr>\n",
       "    <tr>\n",
       "      <th>4</th>\n",
       "      <td>Hamdy Abdelwahab</td>\n",
       "      <td>http://ufcstats.com/fighter-details/3329d692ae...</td>\n",
       "    </tr>\n",
       "    <tr>\n",
       "      <th>...</th>\n",
       "      <td>...</td>\n",
       "      <td>...</td>\n",
       "    </tr>\n",
       "    <tr>\n",
       "      <th>3912</th>\n",
       "      <td>Dave Zitanick</td>\n",
       "      <td>http://ufcstats.com/fighter-details/be124bdd60...</td>\n",
       "    </tr>\n",
       "    <tr>\n",
       "      <th>3913</th>\n",
       "      <td>Alex Zuniga</td>\n",
       "      <td>http://ufcstats.com/fighter-details/02d808afb9...</td>\n",
       "    </tr>\n",
       "    <tr>\n",
       "      <th>3914</th>\n",
       "      <td>George Zuniga</td>\n",
       "      <td>http://ufcstats.com/fighter-details/1291dd6b8a...</td>\n",
       "    </tr>\n",
       "    <tr>\n",
       "      <th>3915</th>\n",
       "      <td>Allan Zuniga</td>\n",
       "      <td>http://ufcstats.com/fighter-details/523af801b3...</td>\n",
       "    </tr>\n",
       "    <tr>\n",
       "      <th>3916</th>\n",
       "      <td>Virgil Zwicker</td>\n",
       "      <td>http://ufcstats.com/fighter-details/0c277f3ff6...</td>\n",
       "    </tr>\n",
       "  </tbody>\n",
       "</table>\n",
       "<p>3917 rows × 2 columns</p>\n",
       "</div>"
      ],
      "text/plain": [
       "                  name                                                url\n",
       "0            Tom Aaron  http://ufcstats.com/fighter-details/93fe7332d1...\n",
       "1         Danny Abbadi  http://ufcstats.com/fighter-details/15df64c02b...\n",
       "2      Nariman Abbasov  http://ufcstats.com/fighter-details/59a9d6dac6...\n",
       "3         David Abbott  http://ufcstats.com/fighter-details/b361180739...\n",
       "4     Hamdy Abdelwahab  http://ufcstats.com/fighter-details/3329d692ae...\n",
       "...                ...                                                ...\n",
       "3912     Dave Zitanick  http://ufcstats.com/fighter-details/be124bdd60...\n",
       "3913       Alex Zuniga  http://ufcstats.com/fighter-details/02d808afb9...\n",
       "3914     George Zuniga  http://ufcstats.com/fighter-details/1291dd6b8a...\n",
       "3915      Allan Zuniga  http://ufcstats.com/fighter-details/523af801b3...\n",
       "3916    Virgil Zwicker  http://ufcstats.com/fighter-details/0c277f3ff6...\n",
       "\n",
       "[3917 rows x 2 columns]"
      ]
     },
     "execution_count": 2,
     "metadata": {},
     "output_type": "execute_result"
    }
   ],
   "source": [
    "fighter_urls = pd.read_csv(\"../data/fighter_urls.csv\", index_col=0)\n",
    "fighter_urls"
   ]
  },
  {
   "cell_type": "code",
   "execution_count": null,
   "id": "57b9cae8",
   "metadata": {},
   "outputs": [],
   "source": []
  }
 ],
 "metadata": {
  "kernelspec": {
   "display_name": "Python 3 (ipykernel)",
   "language": "python",
   "name": "python3"
  },
  "language_info": {
   "codemirror_mode": {
    "name": "ipython",
    "version": 3
   },
   "file_extension": ".py",
   "mimetype": "text/x-python",
   "name": "python",
   "nbconvert_exporter": "python",
   "pygments_lexer": "ipython3",
   "version": "3.8.13"
  }
 },
 "nbformat": 4,
 "nbformat_minor": 5
}
