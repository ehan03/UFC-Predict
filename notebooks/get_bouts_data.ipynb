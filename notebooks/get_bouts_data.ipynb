{
 "cells": [
  {
   "cell_type": "markdown",
   "id": "0d183994",
   "metadata": {},
   "source": [
    "# Get bouts data"
   ]
  },
  {
   "cell_type": "code",
   "execution_count": 1,
   "id": "50333932",
   "metadata": {},
   "outputs": [],
   "source": [
    "import pandas as pd\n",
    "import numpy as np\n",
    "import requests\n",
    "\n",
    "from tqdm import tqdm\n",
    "from bs4 import BeautifulSoup\n",
    "from concurrent.futures import ThreadPoolExecutor"
   ]
  },
  {
   "cell_type": "markdown",
   "id": "77b0a7f4",
   "metadata": {},
   "source": [
    "### Scrape URLs to all bouts"
   ]
  },
  {
   "cell_type": "code",
   "execution_count": 2,
   "id": "892a366e",
   "metadata": {},
   "outputs": [],
   "source": [
    "fighter_urls = pd.read_hdf(\"../data/fighters.h5\", key=\"urls\")"
   ]
  },
  {
   "cell_type": "code",
   "execution_count": 3,
   "id": "79ab95df",
   "metadata": {},
   "outputs": [],
   "source": [
    "def scrape(fighter_url):\n",
    "    source_code = requests.get(fighter_url, allow_redirects=False)\n",
    "    plain_text = source_code.text.encode(\"ascii\", \"replace\")\n",
    "    soup = BeautifulSoup(plain_text, \"html.parser\")\n",
    "    \n",
    "    # Ignore upcoming fights\n",
    "    rows = soup.findAll(\"tr\", {\"class\": \"b-fight-details__table-row b-fight-details__table-row__hover js-fight-details-click\"})\n",
    "    \n",
    "    bouts = []\n",
    "    for row in rows:\n",
    "        entry = []\n",
    "        for atag in row.findAll(\"a\", {\"class\": \"b-flag\"}, href=True):\n",
    "            entry.append(atag[\"href\"])\n",
    "        for i, ptag in enumerate(row.findAll(\"p\", {\"class\": \"b-fight-details__table-text\"})):\n",
    "            if i == 11 or i == 12:\n",
    "                entry.append(ptag.text.strip())\n",
    "        bouts.append(entry)\n",
    "    \n",
    "    return bouts"
   ]
  },
  {
   "cell_type": "code",
   "execution_count": 4,
   "id": "77b63083",
   "metadata": {},
   "outputs": [],
   "source": [
    "# bout_urls = []\n",
    "# with ThreadPoolExecutor(max_workers=10) as executor:\n",
    "#     for result in tqdm(executor.map(scrape, fighter_urls[\"url\"]), total=fighter_urls.shape[0], desc=\"Scraping bout links\"):\n",
    "#         bout_urls += result"
   ]
  },
  {
   "cell_type": "code",
   "execution_count": 5,
   "id": "148d8592",
   "metadata": {
    "scrolled": false
   },
   "outputs": [],
   "source": [
    "# df = pd.DataFrame(bout_urls, columns=[\"url\", \"event\", \"date\"]).drop_duplicates(keep=\"first\")\n",
    "# df[\"date\"] = pd.to_datetime(df[\"date\"])\n",
    "# df = df.sort_values(by=[\"date\", \"event\"]).reset_index(drop=True)\n",
    "# df"
   ]
  },
  {
   "cell_type": "code",
   "execution_count": 6,
   "id": "5123cf14",
   "metadata": {},
   "outputs": [],
   "source": [
    "# df.to_hdf(\"../data/bouts.h5\", key=\"urls\", mode=\"w\")"
   ]
  },
  {
   "cell_type": "markdown",
   "id": "fc73465f",
   "metadata": {},
   "source": [
    "### Reorder bouts\n",
    "\n",
    "dang it"
   ]
  },
  {
   "cell_type": "code",
   "execution_count": 7,
   "id": "b382933d",
   "metadata": {
    "scrolled": false
   },
   "outputs": [],
   "source": [
    "# bout_urls = pd.read_hdf(\"../data/bouts.h5\", key=\"urls\")\n",
    "# temp = bout_urls.groupby(\"event\").first().reset_index(drop=False)\n",
    "# temp = temp.sort_values(by=[\"date\", \"event\"]).reset_index(drop=True)\n",
    "# temp"
   ]
  },
  {
   "cell_type": "code",
   "execution_count": 8,
   "id": "a3c0885f",
   "metadata": {},
   "outputs": [],
   "source": [
    "def scrape_event_urls(url):\n",
    "    source_code = requests.get(url, allow_redirects=False)\n",
    "    plain_text = source_code.text.encode(\"ascii\", \"replace\")\n",
    "    soup = BeautifulSoup(plain_text, \"html.parser\")\n",
    "    header = soup.find(\"h2\", {\"class\": \"b-content__title\"})\n",
    "    event_link = header.find(\"a\", {\"class\": \"b-link\"}, href=True)\n",
    "    \n",
    "    return event_link[\"href\"]"
   ]
  },
  {
   "cell_type": "code",
   "execution_count": 9,
   "id": "a6379f5c",
   "metadata": {},
   "outputs": [],
   "source": [
    "# event_urls = []\n",
    "# with ThreadPoolExecutor(max_workers=10) as executor:\n",
    "#     for result in tqdm(executor.map(scrape_event_urls, temp[\"url\"]), total=temp.shape[0]):\n",
    "#         event_urls.append(result)"
   ]
  },
  {
   "cell_type": "code",
   "execution_count": 10,
   "id": "84d1e191",
   "metadata": {},
   "outputs": [],
   "source": [
    "# event_urls"
   ]
  },
  {
   "cell_type": "code",
   "execution_count": 11,
   "id": "3ac491b7",
   "metadata": {},
   "outputs": [],
   "source": [
    "def scrape_bout_urls_in_order(url):\n",
    "    source_code = requests.get(url, allow_redirects=False)\n",
    "    plain_text = source_code.text.encode(\"ascii\", \"replace\")\n",
    "    soup = BeautifulSoup(plain_text, \"html.parser\")\n",
    "    rows = soup.findAll(\"tr\", {\"class\": \"b-fight-details__table-row b-fight-details__table-row__hover js-fight-details-click\"})\n",
    "    urls = []\n",
    "    \n",
    "    for row in rows:\n",
    "        for atag in row.findAll(\"a\", {\"class\": \"b-flag\"}, href=True):\n",
    "            urls.append(atag[\"href\"])\n",
    "    \n",
    "    return urls[::-1]"
   ]
  },
  {
   "cell_type": "code",
   "execution_count": 12,
   "id": "4b29ef5f",
   "metadata": {},
   "outputs": [],
   "source": [
    "# urls_in_order = []\n",
    "# with ThreadPoolExecutor(max_workers=10) as executor:\n",
    "#     for result in tqdm(executor.map(scrape_bout_urls_in_order, event_urls), total=len(event_urls)):\n",
    "#         urls_in_order += result"
   ]
  },
  {
   "cell_type": "code",
   "execution_count": 13,
   "id": "21f90a1f",
   "metadata": {},
   "outputs": [],
   "source": [
    "# order = pd.DataFrame(urls_in_order, columns=[\"url\"])\n",
    "# order = order.drop_duplicates(keep=\"first\").reset_index(drop=True)\n",
    "# order"
   ]
  },
  {
   "cell_type": "code",
   "execution_count": 14,
   "id": "3d883d96",
   "metadata": {},
   "outputs": [],
   "source": [
    "# bout_urls_in_order = order.merge(bout_urls, how=\"left\", on=\"url\")\n",
    "# bout_urls_in_order"
   ]
  },
  {
   "cell_type": "code",
   "execution_count": 15,
   "id": "72b1a508",
   "metadata": {},
   "outputs": [],
   "source": [
    "# bout_urls_in_order.to_hdf(\"../data/bouts.h5\", key=\"urls_in_order\", mode=\"w\")"
   ]
  },
  {
   "cell_type": "markdown",
   "id": "3e30406f",
   "metadata": {},
   "source": [
    "### Scrape bout stats"
   ]
  },
  {
   "cell_type": "code",
   "execution_count": 16,
   "id": "b40c7e38",
   "metadata": {},
   "outputs": [
    {
     "data": {
      "text/html": [
       "<div>\n",
       "<style scoped>\n",
       "    .dataframe tbody tr th:only-of-type {\n",
       "        vertical-align: middle;\n",
       "    }\n",
       "\n",
       "    .dataframe tbody tr th {\n",
       "        vertical-align: top;\n",
       "    }\n",
       "\n",
       "    .dataframe thead th {\n",
       "        text-align: right;\n",
       "    }\n",
       "</style>\n",
       "<table border=\"1\" class=\"dataframe\">\n",
       "  <thead>\n",
       "    <tr style=\"text-align: right;\">\n",
       "      <th></th>\n",
       "      <th>url</th>\n",
       "      <th>event</th>\n",
       "      <th>date</th>\n",
       "    </tr>\n",
       "  </thead>\n",
       "  <tbody>\n",
       "    <tr>\n",
       "      <th>0</th>\n",
       "      <td>http://ufcstats.com/fight-details/567a09fd200c...</td>\n",
       "      <td>UFC 1: The Beginning</td>\n",
       "      <td>1993-11-12</td>\n",
       "    </tr>\n",
       "    <tr>\n",
       "      <th>1</th>\n",
       "      <td>http://ufcstats.com/fight-details/2d2bbc86e941...</td>\n",
       "      <td>UFC 1: The Beginning</td>\n",
       "      <td>1993-11-12</td>\n",
       "    </tr>\n",
       "    <tr>\n",
       "      <th>2</th>\n",
       "      <td>http://ufcstats.com/fight-details/cecdc0da5842...</td>\n",
       "      <td>UFC 1: The Beginning</td>\n",
       "      <td>1993-11-12</td>\n",
       "    </tr>\n",
       "    <tr>\n",
       "      <th>3</th>\n",
       "      <td>http://ufcstats.com/fight-details/46acd54cc0c9...</td>\n",
       "      <td>UFC 1: The Beginning</td>\n",
       "      <td>1993-11-12</td>\n",
       "    </tr>\n",
       "    <tr>\n",
       "      <th>4</th>\n",
       "      <td>http://ufcstats.com/fight-details/ac7ca2ec38b9...</td>\n",
       "      <td>UFC 1: The Beginning</td>\n",
       "      <td>1993-11-12</td>\n",
       "    </tr>\n",
       "    <tr>\n",
       "      <th>...</th>\n",
       "      <td>...</td>\n",
       "      <td>...</td>\n",
       "      <td>...</td>\n",
       "    </tr>\n",
       "    <tr>\n",
       "      <th>9319</th>\n",
       "      <td>http://ufcstats.com/fight-details/2d1ac675e6c1...</td>\n",
       "      <td>UFC 283: Teixeira vs. Hill</td>\n",
       "      <td>2023-01-21</td>\n",
       "    </tr>\n",
       "    <tr>\n",
       "      <th>9320</th>\n",
       "      <td>http://ufcstats.com/fight-details/022198293028...</td>\n",
       "      <td>UFC 283: Teixeira vs. Hill</td>\n",
       "      <td>2023-01-21</td>\n",
       "    </tr>\n",
       "    <tr>\n",
       "      <th>9321</th>\n",
       "      <td>http://ufcstats.com/fight-details/1c51f405e5c4...</td>\n",
       "      <td>UFC 283: Teixeira vs. Hill</td>\n",
       "      <td>2023-01-21</td>\n",
       "    </tr>\n",
       "    <tr>\n",
       "      <th>9322</th>\n",
       "      <td>http://ufcstats.com/fight-details/0462bcc27498...</td>\n",
       "      <td>UFC 283: Teixeira vs. Hill</td>\n",
       "      <td>2023-01-21</td>\n",
       "    </tr>\n",
       "    <tr>\n",
       "      <th>9323</th>\n",
       "      <td>http://ufcstats.com/fight-details/dde7d29cc443...</td>\n",
       "      <td>UFC 283: Teixeira vs. Hill</td>\n",
       "      <td>2023-01-21</td>\n",
       "    </tr>\n",
       "  </tbody>\n",
       "</table>\n",
       "<p>9324 rows × 3 columns</p>\n",
       "</div>"
      ],
      "text/plain": [
       "                                                    url  \\\n",
       "0     http://ufcstats.com/fight-details/567a09fd200c...   \n",
       "1     http://ufcstats.com/fight-details/2d2bbc86e941...   \n",
       "2     http://ufcstats.com/fight-details/cecdc0da5842...   \n",
       "3     http://ufcstats.com/fight-details/46acd54cc0c9...   \n",
       "4     http://ufcstats.com/fight-details/ac7ca2ec38b9...   \n",
       "...                                                 ...   \n",
       "9319  http://ufcstats.com/fight-details/2d1ac675e6c1...   \n",
       "9320  http://ufcstats.com/fight-details/022198293028...   \n",
       "9321  http://ufcstats.com/fight-details/1c51f405e5c4...   \n",
       "9322  http://ufcstats.com/fight-details/0462bcc27498...   \n",
       "9323  http://ufcstats.com/fight-details/dde7d29cc443...   \n",
       "\n",
       "                           event       date  \n",
       "0           UFC 1: The Beginning 1993-11-12  \n",
       "1           UFC 1: The Beginning 1993-11-12  \n",
       "2           UFC 1: The Beginning 1993-11-12  \n",
       "3           UFC 1: The Beginning 1993-11-12  \n",
       "4           UFC 1: The Beginning 1993-11-12  \n",
       "...                          ...        ...  \n",
       "9319  UFC 283: Teixeira vs. Hill 2023-01-21  \n",
       "9320  UFC 283: Teixeira vs. Hill 2023-01-21  \n",
       "9321  UFC 283: Teixeira vs. Hill 2023-01-21  \n",
       "9322  UFC 283: Teixeira vs. Hill 2023-01-21  \n",
       "9323  UFC 283: Teixeira vs. Hill 2023-01-21  \n",
       "\n",
       "[9324 rows x 3 columns]"
      ]
     },
     "execution_count": 16,
     "metadata": {},
     "output_type": "execute_result"
    }
   ],
   "source": [
    "bout_urls = pd.read_hdf(\"../data/bouts.h5\", key=\"urls_in_order\")\n",
    "bout_urls"
   ]
  },
  {
   "cell_type": "code",
   "execution_count": 17,
   "id": "f865be3c",
   "metadata": {},
   "outputs": [],
   "source": [
    "def get_bout_stats(url, event, date):\n",
    "    source_code = requests.get(url, allow_redirects=False)\n",
    "    plain_text = source_code.text.encode(\"ascii\", \"replace\")\n",
    "    soup = BeautifulSoup(plain_text, \"html.parser\")\n",
    "    \n",
    "    bout_details = [url, event, date]\n",
    "    R_stats = []\n",
    "    B_stats = []\n",
    "    \n",
    "    bout_details += [x.text.strip() for x in soup.findAll(\"h3\", {\"class\": \"b-fight-details__person-name\"})]\n",
    "    bout_details += [x.text.strip() for x in soup.findAll(\"i\", {\"class\": \"b-fight-details__person-status\"})]\n",
    "    bout_details.append(soup.find(\"i\", {\"class\": \"b-fight-details__fight-title\"}).text.strip())\n",
    "    bout_details.append(soup.find(\"i\", {\"class\": \"b-fight-details__text-item_first\"}).text.replace(\"Method:\", \"\").strip())\n",
    "    for item in soup.findAll(\"i\", {\"class\": \"b-fight-details__text-item\"}):\n",
    "        bout_details.append(item.text.replace(\"Round:\", \"\")\n",
    "                                    .replace(\"Time:\", \"\")\n",
    "                                    .replace(\"Time format:\", \"\")\n",
    "                                    .replace(\"Referee:\", \"\")\n",
    "                                    .strip())\n",
    "    \n",
    "    pass"
   ]
  },
  {
   "cell_type": "code",
   "execution_count": 18,
   "id": "be7b48e4",
   "metadata": {},
   "outputs": [],
   "source": [
    "# bout_stats = []\n",
    "# with ThreadPoolExecutor() as executor:\n",
    "#     for result in tqdm(executor.map(get_bout_stats, bout_urls[\"url\"], bout_urls[\"event\"], bout_urls[\"date\"])):\n",
    "#         bout_stats += result"
   ]
  },
  {
   "cell_type": "code",
   "execution_count": 19,
   "id": "54c14f6b",
   "metadata": {},
   "outputs": [],
   "source": [
    "# columns = [\"URL\", \"Event\", \"Date\", \"R_fighter\", \"B_fighter\", \"R_result\", \"B_result\", \"Bout Type\"]\n",
    "# df = pd.DataFrame(bout_stats)"
   ]
  },
  {
   "cell_type": "code",
   "execution_count": 20,
   "id": "3dd463cc",
   "metadata": {
    "scrolled": true
   },
   "outputs": [],
   "source": [
    "# source_code = requests.get(\"http://ufcstats.com/fight-details/dde7d29cc443e263\", allow_redirects=False)\n",
    "# plain_text = source_code.text.encode(\"ascii\", \"replace\")\n",
    "# soup = BeautifulSoup(plain_text, \"html.parser\")"
   ]
  },
  {
   "cell_type": "code",
   "execution_count": 21,
   "id": "b5bf5a58",
   "metadata": {},
   "outputs": [],
   "source": [
    "# bout_details = []\n",
    "# R_stats = []\n",
    "# B_stats = []\n",
    "\n",
    "# bout_details += [x.text.strip() for x in soup.findAll(\"h3\", {\"class\": \"b-fight-details__person-name\"})] + \\\n",
    "#                 [x.text.strip() for x in soup.findAll(\"i\", {\"class\": \"b-fight-details__person-status\"})]\n",
    "# bout_details.append(soup.find(\"i\", {\"class\": \"b-fight-details__fight-title\"}).text.strip())\n",
    "# for item in soup.findAll(\"i\", {\"class\": \"b-fight-details__text-item_first\"}):\n",
    "#     bout_details.append(item.text.replace(\"Method:\", \"\")\n",
    "#                                 .replace(\"Details:\", \"\")\n",
    "#                                 .strip())\n",
    "# for item in soup.findAll(\"i\", {\"class\": \"b-fight-details__text-item\"}):\n",
    "#     bout_details.append(item.text.replace(\"Round:\", \"\")\n",
    "#                                 .replace(\"Time:\", \"\")\n",
    "#                                 .replace(\"Time format:\", \"\")\n",
    "#                                 .replace(\"Referee:\", \"\")\n",
    "#                                 .strip())\n",
    "\n",
    "# print(bout_details)"
   ]
  }
 ],
 "metadata": {
  "kernelspec": {
   "display_name": "Python [conda env:ufc]",
   "language": "python",
   "name": "conda-env-ufc-py"
  },
  "language_info": {
   "codemirror_mode": {
    "name": "ipython",
    "version": 3
   },
   "file_extension": ".py",
   "mimetype": "text/x-python",
   "name": "python",
   "nbconvert_exporter": "python",
   "pygments_lexer": "ipython3",
   "version": "3.9.16"
  }
 },
 "nbformat": 4,
 "nbformat_minor": 5
}
